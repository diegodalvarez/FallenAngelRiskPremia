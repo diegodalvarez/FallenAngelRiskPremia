{
 "cells": [
  {
   "cell_type": "markdown",
   "id": "76086031-ccd7-427e-b1f9-b98a5e7fbb16",
   "metadata": {},
   "source": [
    "# Fallen Angel Risk Premia"
   ]
  },
  {
   "cell_type": "code",
   "execution_count": 1,
   "id": "09f118fb-fb12-466c-a387-7e84b6288423",
   "metadata": {
    "vscode": {
     "languageId": "r"
    }
   },
   "outputs": [
    {
     "name": "stderr",
     "output_type": "stream",
     "text": [
      "Loading required package: TTR\n",
      "\n",
      "Loading required package: arrow\n",
      "\n",
      "Loading required package: ggplot2\n",
      "\n",
      "Loading required package: tidyverse\n",
      "\n"
     ]
    }
   ],
   "source": [
    "suppressWarnings(require(\"TTR\"))\n",
    "suppressWarnings(require(\"arrow\"))\n",
    "suppressWarnings(require(\"ggplot2\"))\n",
    "suppressWarnings(require(\"tidyverse\"))"
   ]
  },
  {
   "cell_type": "code",
   "execution_count": null,
   "id": "a92174b2",
   "metadata": {
    "vscode": {
     "languageId": "r"
    }
   },
   "outputs": [
    {
     "ename": "",
     "evalue": "",
     "output_type": "error",
     "traceback": [
      "\u001b[1;31mFailed to start the Kernel. \n",
      "\u001b[1;31mThe kernel 'R' was not started as it is located in an insecure location 'c:\\ProgramData\\jupyter\\kernels\\ir\\kernel.json'.  \n",
      "\u001b[1;31mClick <a href='https://aka.ms/JupyterTrustedKernelPaths'>here</a> for further details, optionally update the setting <a href='command:workbench.action.openSettings?[\"jupyter.kernels.trusted\"]'>jupyter.kernels.trusted</a> to trust the kernel."
     ]
    }
   ],
   "source": [
    "require(\"arrow\")"
   ]
  },
  {
   "cell_type": "markdown",
   "id": "1a42fbdc-23a4-4107-97a5-885bc2a0cb74",
   "metadata": {},
   "source": [
    "## Get Data"
   ]
  },
  {
   "cell_type": "code",
   "execution_count": null,
   "id": "eba2dbc8-b595-4ea5-8397-cc493597ebe5",
   "metadata": {
    "vscode": {
     "languageId": "r"
    }
   },
   "outputs": [],
   "source": [
    "get_data <- function(){\n",
    "\n",
    "    file_path <- (file.path(\n",
    "        dirname(dirname(getwd())),\n",
    "        \"data\",\n",
    "        \"RawData\",\n",
    "        \"RawPrices.parquet\"))\n",
    "    \n",
    "    df_out <- (read_parquet(\n",
    "        file_path))\n",
    "\n",
    "    return(df_out)\n",
    "}\n",
    "\n",
    "df_prices <- get_data()"
   ]
  },
  {
   "cell_type": "code",
   "execution_count": null,
   "id": "51bb1066-074a-4221-9758-5c8466a40f0c",
   "metadata": {
    "vscode": {
     "languageId": "r"
    }
   },
   "outputs": [],
   "source": [
    "df_prices %>% \n",
    "  select(date, security) %>% \n",
    "  group_by(security) %>% \n",
    "  filter(date == min(date) | date == max(date)) %>% \n",
    "  ungroup()"
   ]
  },
  {
   "cell_type": "markdown",
   "id": "bfa5c967-06f7-4d95-bda5-04eda2e64565",
   "metadata": {},
   "source": [
    "## Exploratory Data Analysis"
   ]
  },
  {
   "cell_type": "markdown",
   "id": "9354c070-1c04-4178-978c-fa0567fce615",
   "metadata": {},
   "source": [
    "Cumulative Basis Points"
   ]
  },
  {
   "cell_type": "code",
   "execution_count": null,
   "id": "0b07c953-3b04-4b62-852a-3d2b99f94bdd",
   "metadata": {
    "vscode": {
     "languageId": "r"
    }
   },
   "outputs": [],
   "source": [
    "plot_rtns <- function(df_prices){\n",
    "\n",
    "    options(repr.plot.width = 16, repr.plot.height = 6)\n",
    "    \n",
    "    df_prices %>% \n",
    "      select(security, date, PX_bps) %>% \n",
    "      drop_na() %>% \n",
    "      group_by(security) %>% \n",
    "      arrange(date) %>% \n",
    "      mutate(PX_bps = cumsum(PX_bps)) %>% \n",
    "      ungroup() %>% \n",
    "      mutate(sec_group = if_else(security %in% c(\"HYG\", \"JNK\"), \"High Yied\", \"Fallen Angel\")) %>% \n",
    "      ggplot(aes(x = date, y = PX_bps, color = security)) +\n",
    "      facet_wrap(~sec_group, scales = \"free\") +\n",
    "      geom_line() +\n",
    "      theme(aspect.ratio = 0.8) +\n",
    "      labs(\n",
    "          y     = \"Cumulative Basis Points\",\n",
    "          title = \"Fallen Angel and Junk Bond ETFs\") +\n",
    "      theme(\n",
    "          strip.text   = element_text(size = 12, face = \"bold\"),\n",
    "          axis.title.y = element_text(size = 12))\n",
    "}\n",
    "plot_rtns(df_prices)"
   ]
  },
  {
   "cell_type": "markdown",
   "id": "a00ff00e-4973-49ff-9db2-b96d9a0c6bad",
   "metadata": {},
   "source": [
    "Now comapre the duration"
   ]
  },
  {
   "cell_type": "code",
   "execution_count": null,
   "id": "a0f6301d-f731-47d5-b1de-1e2d2a9e3720",
   "metadata": {
    "vscode": {
     "languageId": "r"
    }
   },
   "outputs": [],
   "source": [
    "plot_duration <- function(df_prices){\n",
    "  \n",
    "  df_prices %>% \n",
    "    select(security, date, mod_dur) %>% \n",
    "    mutate(sec_group = if_else(security %in% c(\"HYG\", \"JNK\"), \"High Yield\", \"Fallen Angel\")) %>% \n",
    "    ggplot(aes(x = date, y = mod_dur, color = security)) +\n",
    "    facet_wrap(~sec_group, scale = \"free\") +\n",
    "    geom_line() +\n",
    "    theme(aspect.ratio = 0.8) +\n",
    "    labs(\n",
    "      y = \"Modified Duration (years)\",\n",
    "      title = \"Fallen Angels and High Yield ETF Modified Duration (years)\")\n",
    "}\n",
    "\n",
    "plot_duration(df_prices)"
   ]
  },
  {
   "cell_type": "markdown",
   "id": "47c8a79e-07f8-48fa-969a-ffffb2c0c25b",
   "metadata": {},
   "source": [
    "In this case the data can be a bit too noisy with outliers smoothning it out via 5d EWMA should work. "
   ]
  },
  {
   "cell_type": "code",
   "execution_count": null,
   "id": "800394c4-77ec-43da-9fc7-a5b0dc409406",
   "metadata": {
    "vscode": {
     "languageId": "r"
    }
   },
   "outputs": [],
   "source": [
    "smooth_duration <- function(df_prices, window){\n",
    "  \n",
    "  df_out <- df_prices %>% \n",
    "    select(date, security, mod_dur) %>% \n",
    "    drop_na() %>% \n",
    "    group_by(security) %>% \n",
    "    arrange(date) %>% \n",
    "    mutate(mod_dur = EMA(mod_dur, n = window)) %>% \n",
    "    ungroup() %>% \n",
    "    drop_na()\n",
    "  \n",
    "  return(df_out)\n",
    "}\n",
    "\n",
    "df_smooth <- smooth_duration(df_prices, 5)"
   ]
  },
  {
   "cell_type": "code",
   "execution_count": null,
   "id": "c4b3992a-9d67-4ed1-8bdd-d9bb81cb8bb3",
   "metadata": {
    "vscode": {
     "languageId": "r"
    }
   },
   "outputs": [],
   "source": [
    "plot_duration(df_smooth)"
   ]
  },
  {
   "cell_type": "code",
   "execution_count": null,
   "id": "7ab1670c-3a7b-4b2e-9445-570d30471ae3",
   "metadata": {
    "vscode": {
     "languageId": "r"
    }
   },
   "outputs": [],
   "source": [
    "plot_duration_comparison <- function(df_smooth){\n",
    "\n",
    "  options(repr.plot.width = 12, repr.plot.height = 8)\n",
    "  df_hy <- df_smooth %>% \n",
    "    select(security, date, mod_dur) %>% \n",
    "    filter(security %in% c(\"HYG\", \"JNK\")) %>% \n",
    "    rename(\n",
    "      \"hy_sec\" = \"security\",\n",
    "      \"hy_dur\" = \"mod_dur\")\n",
    "  \n",
    "  df_fa <- df_smooth %>% \n",
    "    select(security, date, mod_dur) %>% \n",
    "    filter(security %in% c(\"FALN\", \"ANGL\")) %>% \n",
    "    rename(\n",
    "      \"fa_sec\" = \"security\",\n",
    "      \"fa_dur\" = \"mod_dur\") %>% \n",
    "    filter(fa_dur < 7)\n",
    "  \n",
    "  df_hy %>% \n",
    "    inner_join(df_fa, by = \"date\", relationship = \"many-to-many\") %>% \n",
    "    mutate(group_name = paste0(hy_sec, \" \", fa_sec)) %>% \n",
    "    ggplot(aes(x = fa_dur, y = hy_dur)) +\n",
    "    geom_point(alpha = 0.3) +\n",
    "    facet_wrap(~group_name, scale = \"free\") +\n",
    "    labs(\n",
    "      x     = \"Fallen Angel Modified Duration (years)\",\n",
    "      y     = \"High Yield Modified Duration (years)\",\n",
    "      title = \"Fallen Angel vs. High Yield Modified Duration (years)\")\n",
    "}\n",
    "\n",
    "plot_duration_comparison(df_smooth)"
   ]
  },
  {
   "cell_type": "markdown",
   "id": "62a03fb4-9f9e-4344-baa5-d1ce1ed79212",
   "metadata": {},
   "source": [
    "## Simple Backtest"
   ]
  },
  {
   "cell_type": "code",
   "execution_count": null,
   "id": "d3d76c5c-f5c8-49f3-8b4f-1db2b4f0bf2e",
   "metadata": {
    "vscode": {
     "languageId": "r"
    }
   },
   "outputs": [],
   "source": [
    "get_simple_backtest <- function(df_prices){\n",
    "    \n",
    "    df_hy <- df_prices %>% \n",
    "      select(\"hy_sec\" = security, date, \"hy_bps\" = PX_bps) %>% \n",
    "      filter(hy_sec %in% c(\"HYG\", \"JNK\"))\n",
    "    \n",
    "    df_fa <- df_prices %>% \n",
    "      select(\"fa_sec\" = security, date, \"fa_bps\" = PX_bps) %>% \n",
    "      filter(fa_sec %in% c(\"ANGL\", \"FALN\"))\n",
    "    \n",
    "    df_out <- df_hy %>% \n",
    "      inner_join(df_fa, by = c(\"date\"), relationship = \"many-to-many\") %>% \n",
    "      drop_na() %>% \n",
    "      mutate(spread = fa_bps - hy_bps) %>% \n",
    "      group_by(hy_sec, fa_sec) %>% \n",
    "      mutate(cum_bps = cumsum(spread)) \n",
    "\n",
    "    return(df_out)\n",
    "}\n",
    "\n",
    "df_backtest <- get_simple_backtest(df_prices)"
   ]
  },
  {
   "cell_type": "code",
   "execution_count": null,
   "id": "32e7b8e9-d5ce-475f-b305-0c70990f6c97",
   "metadata": {
    "vscode": {
     "languageId": "r"
    }
   },
   "outputs": [],
   "source": [
    "plot_backtest <- function(df_backtest){\n",
    "    \n",
    "    options(repr.plot.width = 16, repr.plot.height = 6)\n",
    "    \n",
    "    df_backtest %>% \n",
    "      ggplot(aes(x = date, y = cum_bps, color = hy_sec)) +\n",
    "      facet_wrap(~fa_sec, scale = \"free\") + \n",
    "      geom_line() +\n",
    "      theme(aspect.ratio = 0.8) + \n",
    "      labs(\n",
    "        color = \"High Yield\\nETF\",\n",
    "        y     = \"Cumulative Basis Points\",\n",
    "        title = \"Cumulative Basis Point Spread Differential of Long Fallen Angel Short HY\") \n",
    "}\n",
    "plot_backtest(df_backtest)"
   ]
  },
  {
   "cell_type": "code",
   "execution_count": null,
   "id": "9ef86148-ea19-48de-9729-77843f48cb53",
   "metadata": {
    "vscode": {
     "languageId": "r"
    }
   },
   "outputs": [],
   "source": [
    "get_backtest_sharpe <- function(df_backtest){\n",
    "    \n",
    "    df_sharpe <- df_backtest %>% \n",
    "      group_by(hy_sec, fa_sec) %>% \n",
    "      summarize(\n",
    "        mean_rtn = mean(spread),\n",
    "        std_rtn  = sd(spread)) %>% \n",
    "      ungroup() %>% \n",
    "      mutate(sharpe = mean_rtn / std_rtn * sqrt(252)) \n",
    "\n",
    "    return(df_sharpe)\n",
    "}\n",
    "\n",
    "df_sharpe <- get_backtest_sharpe(df_backtest)"
   ]
  },
  {
   "cell_type": "code",
   "execution_count": null,
   "id": "2ec0c7d6-827f-468b-817e-86a768fec7f7",
   "metadata": {
    "vscode": {
     "languageId": "r"
    }
   },
   "outputs": [],
   "source": [
    "plot_naive_sharpe <- function(df_sharpe){\n",
    "\n",
    "    options(repr.plot.width = 12, repr.plot.height = 6)\n",
    "\n",
    "    df_sharpe %>% \n",
    "      ggplot(aes(x = hy_sec, y = sharpe, color)) +\n",
    "      facet_wrap(~fa_sec, scale = \"free_x\") +\n",
    "      geom_bar(stat = \"identity\") +\n",
    "      labs(\n",
    "        x     = \"Short Leg (High Yield ETF)\",\n",
    "        y     = \"Annualized Sharpe\",\n",
    "        title = \"Naive Strategy (spread in bps) of Long Fallen Angels and short HY\")\n",
    "}\n",
    "plot_naive_sharpe(df_sharpe)"
   ]
  }
 ],
 "metadata": {
  "kernelspec": {
   "display_name": "R",
   "language": "R",
   "name": "ir"
  },
  "language_info": {
   "codemirror_mode": "r",
   "file_extension": ".r",
   "mimetype": "text/x-r-source",
   "name": "R",
   "pygments_lexer": "r",
   "version": "3.6.1"
  }
 },
 "nbformat": 4,
 "nbformat_minor": 5
}
